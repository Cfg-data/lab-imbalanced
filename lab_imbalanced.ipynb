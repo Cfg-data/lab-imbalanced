{
  "cells": [
    {
      "cell_type": "markdown",
      "metadata": {
        "id": "rPzt9BKehjFR"
      },
      "source": [
        "# LAB | Imbalanced"
      ]
    },
    {
      "cell_type": "markdown",
      "metadata": {
        "id": "n8xbJ-Z-hjFS"
      },
      "source": [
        "**Load the data**\n",
        "\n",
        "In this challenge, we will be working with Credit Card Fraud dataset.\n",
        "\n",
        "https://raw.githubusercontent.com/data-bootcamp-v4/data/main/card_transdata.csv\n",
        "\n",
        "Metadata\n",
        "\n",
        "- **distance_from_home:** the distance from home where the transaction happened.\n",
        "- **distance_from_last_transaction:** the distance from last transaction happened.\n",
        "- **ratio_to_median_purchase_price:** Ratio of purchased price transaction to median purchase price.\n",
        "- **repeat_retailer:** Is the transaction happened from same retailer.\n",
        "- **used_chip:** Is the transaction through chip (credit card).\n",
        "- **used_pin_number:** Is the transaction happened by using PIN number.\n",
        "- **online_order:** Is the transaction an online order.\n",
        "- **fraud:** Is the transaction fraudulent. **0=legit** -  **1=fraud**\n"
      ]
    },
    {
      "cell_type": "code",
      "execution_count": 10,
      "metadata": {
        "id": "dJ2PmqpehjFS"
      },
      "outputs": [],
      "source": [
        "#Libraries\n",
        "import pandas as pd\n",
        "import numpy as np\n",
        "from sklearn.model_selection import train_test_split\n",
        "from sklearn.linear_model import LogisticRegression\n",
        "from sklearn.model_selection import train_test_split\n",
        "from sklearn.metrics import classification_report, confusion_matrix\n",
        "from sklearn.metrics import roc_auc_score\n",
        "from imblearn.over_sampling import SMOTE\n",
        "from imblearn.under_sampling import RandomUnderSampler"
      ]
    },
    {
      "cell_type": "code",
      "execution_count": 11,
      "metadata": {
        "colab": {
          "base_uri": "https://localhost:8080/",
          "height": 206
        },
        "id": "AcPDZBQwhjFT",
        "outputId": "6dc752f7-cc02-4671-8dc4-72d7912af134"
      },
      "outputs": [
        {
          "output_type": "execute_result",
          "data": {
            "text/plain": [
              "   distance_from_home  distance_from_last_transaction  \\\n",
              "0           57.877857                        0.311140   \n",
              "1           10.829943                        0.175592   \n",
              "2            5.091079                        0.805153   \n",
              "3            2.247564                        5.600044   \n",
              "4           44.190936                        0.566486   \n",
              "\n",
              "   ratio_to_median_purchase_price  repeat_retailer  used_chip  \\\n",
              "0                        1.945940              1.0        1.0   \n",
              "1                        1.294219              1.0        0.0   \n",
              "2                        0.427715              1.0        0.0   \n",
              "3                        0.362663              1.0        1.0   \n",
              "4                        2.222767              1.0        1.0   \n",
              "\n",
              "   used_pin_number  online_order  fraud  \n",
              "0              0.0           0.0    0.0  \n",
              "1              0.0           0.0    0.0  \n",
              "2              0.0           1.0    0.0  \n",
              "3              0.0           1.0    0.0  \n",
              "4              0.0           1.0    0.0  "
            ],
            "text/html": [
              "\n",
              "  <div id=\"df-a92e4c61-e42c-4273-9229-cd5865cb0ee9\" class=\"colab-df-container\">\n",
              "    <div>\n",
              "<style scoped>\n",
              "    .dataframe tbody tr th:only-of-type {\n",
              "        vertical-align: middle;\n",
              "    }\n",
              "\n",
              "    .dataframe tbody tr th {\n",
              "        vertical-align: top;\n",
              "    }\n",
              "\n",
              "    .dataframe thead th {\n",
              "        text-align: right;\n",
              "    }\n",
              "</style>\n",
              "<table border=\"1\" class=\"dataframe\">\n",
              "  <thead>\n",
              "    <tr style=\"text-align: right;\">\n",
              "      <th></th>\n",
              "      <th>distance_from_home</th>\n",
              "      <th>distance_from_last_transaction</th>\n",
              "      <th>ratio_to_median_purchase_price</th>\n",
              "      <th>repeat_retailer</th>\n",
              "      <th>used_chip</th>\n",
              "      <th>used_pin_number</th>\n",
              "      <th>online_order</th>\n",
              "      <th>fraud</th>\n",
              "    </tr>\n",
              "  </thead>\n",
              "  <tbody>\n",
              "    <tr>\n",
              "      <th>0</th>\n",
              "      <td>57.877857</td>\n",
              "      <td>0.311140</td>\n",
              "      <td>1.945940</td>\n",
              "      <td>1.0</td>\n",
              "      <td>1.0</td>\n",
              "      <td>0.0</td>\n",
              "      <td>0.0</td>\n",
              "      <td>0.0</td>\n",
              "    </tr>\n",
              "    <tr>\n",
              "      <th>1</th>\n",
              "      <td>10.829943</td>\n",
              "      <td>0.175592</td>\n",
              "      <td>1.294219</td>\n",
              "      <td>1.0</td>\n",
              "      <td>0.0</td>\n",
              "      <td>0.0</td>\n",
              "      <td>0.0</td>\n",
              "      <td>0.0</td>\n",
              "    </tr>\n",
              "    <tr>\n",
              "      <th>2</th>\n",
              "      <td>5.091079</td>\n",
              "      <td>0.805153</td>\n",
              "      <td>0.427715</td>\n",
              "      <td>1.0</td>\n",
              "      <td>0.0</td>\n",
              "      <td>0.0</td>\n",
              "      <td>1.0</td>\n",
              "      <td>0.0</td>\n",
              "    </tr>\n",
              "    <tr>\n",
              "      <th>3</th>\n",
              "      <td>2.247564</td>\n",
              "      <td>5.600044</td>\n",
              "      <td>0.362663</td>\n",
              "      <td>1.0</td>\n",
              "      <td>1.0</td>\n",
              "      <td>0.0</td>\n",
              "      <td>1.0</td>\n",
              "      <td>0.0</td>\n",
              "    </tr>\n",
              "    <tr>\n",
              "      <th>4</th>\n",
              "      <td>44.190936</td>\n",
              "      <td>0.566486</td>\n",
              "      <td>2.222767</td>\n",
              "      <td>1.0</td>\n",
              "      <td>1.0</td>\n",
              "      <td>0.0</td>\n",
              "      <td>1.0</td>\n",
              "      <td>0.0</td>\n",
              "    </tr>\n",
              "  </tbody>\n",
              "</table>\n",
              "</div>\n",
              "    <div class=\"colab-df-buttons\">\n",
              "\n",
              "  <div class=\"colab-df-container\">\n",
              "    <button class=\"colab-df-convert\" onclick=\"convertToInteractive('df-a92e4c61-e42c-4273-9229-cd5865cb0ee9')\"\n",
              "            title=\"Convert this dataframe to an interactive table.\"\n",
              "            style=\"display:none;\">\n",
              "\n",
              "  <svg xmlns=\"http://www.w3.org/2000/svg\" height=\"24px\" viewBox=\"0 -960 960 960\">\n",
              "    <path d=\"M120-120v-720h720v720H120Zm60-500h600v-160H180v160Zm220 220h160v-160H400v160Zm0 220h160v-160H400v160ZM180-400h160v-160H180v160Zm440 0h160v-160H620v160ZM180-180h160v-160H180v160Zm440 0h160v-160H620v160Z\"/>\n",
              "  </svg>\n",
              "    </button>\n",
              "\n",
              "  <style>\n",
              "    .colab-df-container {\n",
              "      display:flex;\n",
              "      gap: 12px;\n",
              "    }\n",
              "\n",
              "    .colab-df-convert {\n",
              "      background-color: #E8F0FE;\n",
              "      border: none;\n",
              "      border-radius: 50%;\n",
              "      cursor: pointer;\n",
              "      display: none;\n",
              "      fill: #1967D2;\n",
              "      height: 32px;\n",
              "      padding: 0 0 0 0;\n",
              "      width: 32px;\n",
              "    }\n",
              "\n",
              "    .colab-df-convert:hover {\n",
              "      background-color: #E2EBFA;\n",
              "      box-shadow: 0px 1px 2px rgba(60, 64, 67, 0.3), 0px 1px 3px 1px rgba(60, 64, 67, 0.15);\n",
              "      fill: #174EA6;\n",
              "    }\n",
              "\n",
              "    .colab-df-buttons div {\n",
              "      margin-bottom: 4px;\n",
              "    }\n",
              "\n",
              "    [theme=dark] .colab-df-convert {\n",
              "      background-color: #3B4455;\n",
              "      fill: #D2E3FC;\n",
              "    }\n",
              "\n",
              "    [theme=dark] .colab-df-convert:hover {\n",
              "      background-color: #434B5C;\n",
              "      box-shadow: 0px 1px 3px 1px rgba(0, 0, 0, 0.15);\n",
              "      filter: drop-shadow(0px 1px 2px rgba(0, 0, 0, 0.3));\n",
              "      fill: #FFFFFF;\n",
              "    }\n",
              "  </style>\n",
              "\n",
              "    <script>\n",
              "      const buttonEl =\n",
              "        document.querySelector('#df-a92e4c61-e42c-4273-9229-cd5865cb0ee9 button.colab-df-convert');\n",
              "      buttonEl.style.display =\n",
              "        google.colab.kernel.accessAllowed ? 'block' : 'none';\n",
              "\n",
              "      async function convertToInteractive(key) {\n",
              "        const element = document.querySelector('#df-a92e4c61-e42c-4273-9229-cd5865cb0ee9');\n",
              "        const dataTable =\n",
              "          await google.colab.kernel.invokeFunction('convertToInteractive',\n",
              "                                                    [key], {});\n",
              "        if (!dataTable) return;\n",
              "\n",
              "        const docLinkHtml = 'Like what you see? Visit the ' +\n",
              "          '<a target=\"_blank\" href=https://colab.research.google.com/notebooks/data_table.ipynb>data table notebook</a>'\n",
              "          + ' to learn more about interactive tables.';\n",
              "        element.innerHTML = '';\n",
              "        dataTable['output_type'] = 'display_data';\n",
              "        await google.colab.output.renderOutput(dataTable, element);\n",
              "        const docLink = document.createElement('div');\n",
              "        docLink.innerHTML = docLinkHtml;\n",
              "        element.appendChild(docLink);\n",
              "      }\n",
              "    </script>\n",
              "  </div>\n",
              "\n",
              "\n",
              "<div id=\"df-839b9016-c85f-4e19-be1d-f99f3f9e58c5\">\n",
              "  <button class=\"colab-df-quickchart\" onclick=\"quickchart('df-839b9016-c85f-4e19-be1d-f99f3f9e58c5')\"\n",
              "            title=\"Suggest charts\"\n",
              "            style=\"display:none;\">\n",
              "\n",
              "<svg xmlns=\"http://www.w3.org/2000/svg\" height=\"24px\"viewBox=\"0 0 24 24\"\n",
              "     width=\"24px\">\n",
              "    <g>\n",
              "        <path d=\"M19 3H5c-1.1 0-2 .9-2 2v14c0 1.1.9 2 2 2h14c1.1 0 2-.9 2-2V5c0-1.1-.9-2-2-2zM9 17H7v-7h2v7zm4 0h-2V7h2v10zm4 0h-2v-4h2v4z\"/>\n",
              "    </g>\n",
              "</svg>\n",
              "  </button>\n",
              "\n",
              "<style>\n",
              "  .colab-df-quickchart {\n",
              "      --bg-color: #E8F0FE;\n",
              "      --fill-color: #1967D2;\n",
              "      --hover-bg-color: #E2EBFA;\n",
              "      --hover-fill-color: #174EA6;\n",
              "      --disabled-fill-color: #AAA;\n",
              "      --disabled-bg-color: #DDD;\n",
              "  }\n",
              "\n",
              "  [theme=dark] .colab-df-quickchart {\n",
              "      --bg-color: #3B4455;\n",
              "      --fill-color: #D2E3FC;\n",
              "      --hover-bg-color: #434B5C;\n",
              "      --hover-fill-color: #FFFFFF;\n",
              "      --disabled-bg-color: #3B4455;\n",
              "      --disabled-fill-color: #666;\n",
              "  }\n",
              "\n",
              "  .colab-df-quickchart {\n",
              "    background-color: var(--bg-color);\n",
              "    border: none;\n",
              "    border-radius: 50%;\n",
              "    cursor: pointer;\n",
              "    display: none;\n",
              "    fill: var(--fill-color);\n",
              "    height: 32px;\n",
              "    padding: 0;\n",
              "    width: 32px;\n",
              "  }\n",
              "\n",
              "  .colab-df-quickchart:hover {\n",
              "    background-color: var(--hover-bg-color);\n",
              "    box-shadow: 0 1px 2px rgba(60, 64, 67, 0.3), 0 1px 3px 1px rgba(60, 64, 67, 0.15);\n",
              "    fill: var(--button-hover-fill-color);\n",
              "  }\n",
              "\n",
              "  .colab-df-quickchart-complete:disabled,\n",
              "  .colab-df-quickchart-complete:disabled:hover {\n",
              "    background-color: var(--disabled-bg-color);\n",
              "    fill: var(--disabled-fill-color);\n",
              "    box-shadow: none;\n",
              "  }\n",
              "\n",
              "  .colab-df-spinner {\n",
              "    border: 2px solid var(--fill-color);\n",
              "    border-color: transparent;\n",
              "    border-bottom-color: var(--fill-color);\n",
              "    animation:\n",
              "      spin 1s steps(1) infinite;\n",
              "  }\n",
              "\n",
              "  @keyframes spin {\n",
              "    0% {\n",
              "      border-color: transparent;\n",
              "      border-bottom-color: var(--fill-color);\n",
              "      border-left-color: var(--fill-color);\n",
              "    }\n",
              "    20% {\n",
              "      border-color: transparent;\n",
              "      border-left-color: var(--fill-color);\n",
              "      border-top-color: var(--fill-color);\n",
              "    }\n",
              "    30% {\n",
              "      border-color: transparent;\n",
              "      border-left-color: var(--fill-color);\n",
              "      border-top-color: var(--fill-color);\n",
              "      border-right-color: var(--fill-color);\n",
              "    }\n",
              "    40% {\n",
              "      border-color: transparent;\n",
              "      border-right-color: var(--fill-color);\n",
              "      border-top-color: var(--fill-color);\n",
              "    }\n",
              "    60% {\n",
              "      border-color: transparent;\n",
              "      border-right-color: var(--fill-color);\n",
              "    }\n",
              "    80% {\n",
              "      border-color: transparent;\n",
              "      border-right-color: var(--fill-color);\n",
              "      border-bottom-color: var(--fill-color);\n",
              "    }\n",
              "    90% {\n",
              "      border-color: transparent;\n",
              "      border-bottom-color: var(--fill-color);\n",
              "    }\n",
              "  }\n",
              "</style>\n",
              "\n",
              "  <script>\n",
              "    async function quickchart(key) {\n",
              "      const quickchartButtonEl =\n",
              "        document.querySelector('#' + key + ' button');\n",
              "      quickchartButtonEl.disabled = true;  // To prevent multiple clicks.\n",
              "      quickchartButtonEl.classList.add('colab-df-spinner');\n",
              "      try {\n",
              "        const charts = await google.colab.kernel.invokeFunction(\n",
              "            'suggestCharts', [key], {});\n",
              "      } catch (error) {\n",
              "        console.error('Error during call to suggestCharts:', error);\n",
              "      }\n",
              "      quickchartButtonEl.classList.remove('colab-df-spinner');\n",
              "      quickchartButtonEl.classList.add('colab-df-quickchart-complete');\n",
              "    }\n",
              "    (() => {\n",
              "      let quickchartButtonEl =\n",
              "        document.querySelector('#df-839b9016-c85f-4e19-be1d-f99f3f9e58c5 button');\n",
              "      quickchartButtonEl.style.display =\n",
              "        google.colab.kernel.accessAllowed ? 'block' : 'none';\n",
              "    })();\n",
              "  </script>\n",
              "</div>\n",
              "\n",
              "    </div>\n",
              "  </div>\n"
            ],
            "application/vnd.google.colaboratory.intrinsic+json": {
              "type": "dataframe",
              "variable_name": "fraud"
            }
          },
          "metadata": {},
          "execution_count": 11
        }
      ],
      "source": [
        "fraud = pd.read_csv(\"https://raw.githubusercontent.com/data-bootcamp-v4/data/main/card_transdata.csv\")\n",
        "fraud.head()"
      ]
    },
    {
      "cell_type": "markdown",
      "metadata": {
        "id": "siVTYUbxhjFT"
      },
      "source": [
        "**Steps:**"
      ]
    },
    {
      "cell_type": "markdown",
      "metadata": {
        "id": "rrfv4e1khjFT"
      },
      "source": [
        "- **1.** What is the distribution of our target variable? Can we say we're dealing with an imbalanced dataset?\n",
        "- **2.** Train a LogisticRegression.\n",
        "- **3.** Evaluate your model. Take in consideration class importance, and evaluate it by selection the correct metric.\n",
        "- **4.** Run **Oversample** in order to balance our target variable and repeat the steps above, now with balanced data. Does it improve the performance of our model?\n",
        "- **5.** Now, run **Undersample** in order to balance our target variable and repeat the steps above (1-3), now with balanced data. Does it improve the performance of our model?\n",
        "- **6.** Finally, run **SMOTE** in order to balance our target variable and repeat the steps above (1-3), now with balanced data. Does it improve the performance of our model?"
      ]
    },
    {
      "cell_type": "markdown",
      "source": [
        "1. What is the distribution of our target variable? Can we say we're dealing with an imbalanced dataset?"
      ],
      "metadata": {
        "id": "LCdO8679kZwl"
      }
    },
    {
      "cell_type": "code",
      "source": [
        "# Check the distribution of the target variable 'fraud'\n",
        "fraud['fraud'].value_counts(normalize=True)"
      ],
      "metadata": {
        "colab": {
          "base_uri": "https://localhost:8080/",
          "height": 178
        },
        "id": "k1LOPzFpiOLE",
        "outputId": "8ab77eb8-dbb2-4880-dc16-31cb1b47b659"
      },
      "execution_count": 12,
      "outputs": [
        {
          "output_type": "execute_result",
          "data": {
            "text/plain": [
              "fraud\n",
              "0.0    0.912597\n",
              "1.0    0.087403\n",
              "Name: proportion, dtype: float64"
            ],
            "text/html": [
              "<div>\n",
              "<style scoped>\n",
              "    .dataframe tbody tr th:only-of-type {\n",
              "        vertical-align: middle;\n",
              "    }\n",
              "\n",
              "    .dataframe tbody tr th {\n",
              "        vertical-align: top;\n",
              "    }\n",
              "\n",
              "    .dataframe thead th {\n",
              "        text-align: right;\n",
              "    }\n",
              "</style>\n",
              "<table border=\"1\" class=\"dataframe\">\n",
              "  <thead>\n",
              "    <tr style=\"text-align: right;\">\n",
              "      <th></th>\n",
              "      <th>proportion</th>\n",
              "    </tr>\n",
              "    <tr>\n",
              "      <th>fraud</th>\n",
              "      <th></th>\n",
              "    </tr>\n",
              "  </thead>\n",
              "  <tbody>\n",
              "    <tr>\n",
              "      <th>0.0</th>\n",
              "      <td>0.912597</td>\n",
              "    </tr>\n",
              "    <tr>\n",
              "      <th>1.0</th>\n",
              "      <td>0.087403</td>\n",
              "    </tr>\n",
              "  </tbody>\n",
              "</table>\n",
              "</div><br><label><b>dtype:</b> float64</label>"
            ]
          },
          "metadata": {},
          "execution_count": 12
        }
      ]
    },
    {
      "cell_type": "markdown",
      "source": [
        "Yes, this is an imbalanced dataset. The non-fraud class (0) significantly outweighs the fraud class (1)."
      ],
      "metadata": {
        "id": "0xJmzHjHkV_9"
      }
    },
    {
      "cell_type": "markdown",
      "source": [
        "2. Train a LogisticRegression."
      ],
      "metadata": {
        "id": "UIKu2Nv0kdWh"
      }
    },
    {
      "cell_type": "code",
      "source": [
        "# Split the data into features and target\n",
        "X = fraud.drop('fraud', axis=1)\n",
        "y = fraud['fraud']\n",
        "\n",
        "# Split the data into train and test sets (80/20 split)\n",
        "X_train, X_test, y_train, y_test = train_test_split(X, y, test_size=0.2, random_state=42, stratify=y)\n",
        "\n",
        "# Initialize the Logistic Regression model\n",
        "log_reg = LogisticRegression(solver='liblinear', random_state=42)\n",
        "\n",
        "# Fit the model on the training data\n",
        "log_reg.fit(X_train, y_train)\n",
        "\n",
        "# Predict on the test set\n",
        "y_pred = log_reg.predict(X_test)\n",
        "\n",
        "# Evaluate the model\n",
        "print(\"Classification Report:\\n\", classification_report(y_test, y_pred))\n",
        "print(\"Confusion Matrix:\\n\", confusion_matrix(y_test, y_pred))"
      ],
      "metadata": {
        "colab": {
          "base_uri": "https://localhost:8080/"
        },
        "id": "BLnxTasvixdr",
        "outputId": "b7c1f9f7-f57b-455c-c012-dce1fe6dc873"
      },
      "execution_count": 13,
      "outputs": [
        {
          "output_type": "stream",
          "name": "stdout",
          "text": [
            "Classification Report:\n",
            "               precision    recall  f1-score   support\n",
            "\n",
            "         0.0       0.96      0.99      0.98    182519\n",
            "         1.0       0.90      0.60      0.72     17481\n",
            "\n",
            "    accuracy                           0.96    200000\n",
            "   macro avg       0.93      0.80      0.85    200000\n",
            "weighted avg       0.96      0.96      0.96    200000\n",
            "\n",
            "Confusion Matrix:\n",
            " [[181290   1229]\n",
            " [  6927  10554]]\n"
          ]
        }
      ]
    },
    {
      "cell_type": "markdown",
      "source": [
        "3. Evaluate your model. Take in consideration class importance, and evaluate it by selection the correct metric."
      ],
      "metadata": {
        "id": "xrXzwBl1kibI"
      }
    },
    {
      "cell_type": "code",
      "source": [
        "# ROC-AUC Score\n",
        "roc_auc = roc_auc_score(y_test, log_reg.predict_proba(X_test)[:, 1])\n",
        "print(f\"ROC-AUC Score: {roc_auc:.4f}\")"
      ],
      "metadata": {
        "colab": {
          "base_uri": "https://localhost:8080/"
        },
        "id": "vW3T0sbXjCoq",
        "outputId": "92faa868-3810-4b8a-cccf-7af5fa4c038b"
      },
      "execution_count": 14,
      "outputs": [
        {
          "output_type": "stream",
          "name": "stdout",
          "text": [
            "ROC-AUC Score: 0.9671\n"
          ]
        }
      ]
    },
    {
      "cell_type": "markdown",
      "source": [
        "4. Run Oversample in order to balance our target variable and repeat the steps above, now with balanced data. Does it improve the performance of our model?"
      ],
      "metadata": {
        "id": "vNdzykoWkjVM"
      }
    },
    {
      "cell_type": "code",
      "source": [
        "# Apply SMOTE to the training data\n",
        "smote = SMOTE(random_state=42)\n",
        "X_train_smote, y_train_smote = smote.fit_resample(X_train, y_train)\n",
        "\n",
        "# Train the Logistic Regression model again with the balanced data\n",
        "log_reg.fit(X_train_smote, y_train_smote)\n",
        "\n",
        "# Predict on the test set\n",
        "y_pred_smote = log_reg.predict(X_test)\n",
        "\n",
        "# Evaluate the model\n",
        "print(\"Classification Report after SMOTE:\\n\", classification_report(y_test, y_pred_smote))\n",
        "print(\"Confusion Matrix after SMOTE:\\n\", confusion_matrix(y_test, y_pred_smote))\n",
        "\n",
        "# ROC-AUC Score after SMOTE\n",
        "roc_auc_smote = roc_auc_score(y_test, log_reg.predict_proba(X_test)[:, 1])\n",
        "print(f\"ROC-AUC Score after SMOTE: {roc_auc_smote:.4f}\")"
      ],
      "metadata": {
        "colab": {
          "base_uri": "https://localhost:8080/"
        },
        "id": "g0xnuCHdjSqm",
        "outputId": "a38867df-da56-4cef-e356-65b9e82bd1db"
      },
      "execution_count": 15,
      "outputs": [
        {
          "output_type": "stream",
          "name": "stdout",
          "text": [
            "Classification Report after SMOTE:\n",
            "               precision    recall  f1-score   support\n",
            "\n",
            "         0.0       0.99      0.93      0.96    182519\n",
            "         1.0       0.58      0.95      0.72     17481\n",
            "\n",
            "    accuracy                           0.94    200000\n",
            "   macro avg       0.79      0.94      0.84    200000\n",
            "weighted avg       0.96      0.94      0.94    200000\n",
            "\n",
            "Confusion Matrix after SMOTE:\n",
            " [[170490  12029]\n",
            " [   943  16538]]\n",
            "ROC-AUC Score after SMOTE: 0.9792\n"
          ]
        }
      ]
    },
    {
      "cell_type": "markdown",
      "source": [
        "SMOTE or Oversampling improved the model's ability to detect fraud (higher recall for fraud), which is the primary goal in fraud detection problems. However, this came at the expense of a lower precision for fraud, resulting in more false positives.\n",
        "If the cost of false positives (misclassifying non-fraud as fraud) is not too high, SMOTE may be beneficial as it improves fraud detection.\n",
        "If minimizing false positives is critical, further tuning or experimentation may be needed to strike a better balance between precision and recall for the fraud class."
      ],
      "metadata": {
        "id": "bncJoIVglTxU"
      }
    },
    {
      "cell_type": "markdown",
      "source": [
        "5. Now, run Undersample in order to balance our target variable and repeat the steps above (1-3), now with balanced data. Does it improve the performance of our model?"
      ],
      "metadata": {
        "id": "a7yi8PdXkvI7"
      }
    },
    {
      "cell_type": "code",
      "source": [
        "# Apply Undersampling to the training data\n",
        "undersample = RandomUnderSampler(random_state=42)\n",
        "X_train_undersample, y_train_undersample = undersample.fit_resample(X_train, y_train)\n",
        "\n",
        "# Train the Logistic Regression model again with the undersampled data\n",
        "log_reg.fit(X_train_undersample, y_train_undersample)\n",
        "\n",
        "# Predict on the test set\n",
        "y_pred_undersample = log_reg.predict(X_test)\n",
        "\n",
        "# Evaluate the model\n",
        "print(\"Classification Report after Undersampling:\\n\", classification_report(y_test, y_pred_undersample))\n",
        "print(\"Confusion Matrix after Undersampling:\\n\", confusion_matrix(y_test, y_pred_undersample))\n",
        "\n",
        "# ROC-AUC Score after Undersampling\n",
        "roc_auc_undersample = roc_auc_score(y_test, log_reg.predict_proba(X_test)[:, 1])\n",
        "print(f\"ROC-AUC Score after Undersampling: {roc_auc_undersample:.4f}\")"
      ],
      "metadata": {
        "colab": {
          "base_uri": "https://localhost:8080/"
        },
        "id": "a1r2_1C7jTqL",
        "outputId": "f2f3bf41-cc5d-49f2-88bc-7ce5aab35fd6"
      },
      "execution_count": 16,
      "outputs": [
        {
          "output_type": "stream",
          "name": "stdout",
          "text": [
            "Classification Report after Undersampling:\n",
            "               precision    recall  f1-score   support\n",
            "\n",
            "         0.0       0.99      0.93      0.96    182519\n",
            "         1.0       0.58      0.95      0.72     17481\n",
            "\n",
            "    accuracy                           0.93    200000\n",
            "   macro avg       0.79      0.94      0.84    200000\n",
            "weighted avg       0.96      0.93      0.94    200000\n",
            "\n",
            "Confusion Matrix after Undersampling:\n",
            " [[170363  12156]\n",
            " [   917  16564]]\n",
            "ROC-AUC Score after Undersampling: 0.9796\n"
          ]
        }
      ]
    },
    {
      "cell_type": "markdown",
      "source": [
        "Undersampling improved the detection of fraud (higher recall for fraud) while reducing the number of non-fraud instances, but at the cost of increased false positives (lower precision for fraud).\n",
        "If fraud detection is a priority, undersampling may be beneficial as it leads to a higher recall for fraud, meaning more fraudulent transactions are identified. However, it comes at the expense of more non-fraud instances being misclassified as fraud.\n",
        "If minimizing false positives (misclassifying non-fraud as fraud) is critical, further adjustments to the model or balancing methods may be needed to find a better trade-off between precision and recall."
      ],
      "metadata": {
        "id": "_e_uVbwbl0KP"
      }
    },
    {
      "cell_type": "markdown",
      "source": [
        "6. Finally, run SMOTE in order to balance our target variable and repeat the steps above (1-3), now with balanced data. Does it improve the performance of our model?"
      ],
      "metadata": {
        "id": "7kQvBpVBmRr6"
      }
    },
    {
      "cell_type": "code",
      "source": [
        "# Prepare the data\n",
        "X = fraud.drop('fraud', axis=1)\n",
        "y = fraud['fraud']\n",
        "\n",
        "# Split into training and test sets\n",
        "X_train, X_test, y_train, y_test = train_test_split(X, y, test_size=0.2, random_state=42)\n",
        "\n",
        "# Apply SMOTE to oversample the minority class\n",
        "smote = SMOTE(random_state=42)\n",
        "X_train_smote, y_train_smote = smote.fit_resample(X_train, y_train)\n",
        "\n",
        "# Initialize the Logistic Regression model\n",
        "log_reg = LogisticRegression(random_state=42)\n",
        "\n",
        "# Fit the model on the resampled (SMOTE) data\n",
        "log_reg.fit(X_train_smote, y_train_smote)\n",
        "\n",
        "# Make predictions on the test set\n",
        "y_pred_smote = log_reg.predict(X_test)\n",
        "\n",
        "# Evaluate the model\n",
        "\n",
        "# 1. Classification Report\n",
        "print(\"Classification Report after SMOTE:\")\n",
        "print(classification_report(y_test, y_pred_smote))\n",
        "\n",
        "# 2. Confusion Matrix\n",
        "print(\"Confusion Matrix after SMOTE:\")\n",
        "print(confusion_matrix(y_test, y_pred_smote))\n",
        "\n",
        "# 3. ROC-AUC Score\n",
        "roc_auc = roc_auc_score(y_test, log_reg.predict_proba(X_test)[:, 1])\n",
        "print(f\"ROC-AUC Score after SMOTE: {roc_auc:.4f}\")"
      ],
      "metadata": {
        "colab": {
          "base_uri": "https://localhost:8080/"
        },
        "id": "CjOjzB6OmSDZ",
        "outputId": "3cac163d-a600-4855-9850-0bb0b41fa100"
      },
      "execution_count": 17,
      "outputs": [
        {
          "output_type": "stream",
          "name": "stderr",
          "text": [
            "/usr/local/lib/python3.10/dist-packages/sklearn/linear_model/_logistic.py:469: ConvergenceWarning: lbfgs failed to converge (status=1):\n",
            "STOP: TOTAL NO. of ITERATIONS REACHED LIMIT.\n",
            "\n",
            "Increase the number of iterations (max_iter) or scale the data as shown in:\n",
            "    https://scikit-learn.org/stable/modules/preprocessing.html\n",
            "Please also refer to the documentation for alternative solver options:\n",
            "    https://scikit-learn.org/stable/modules/linear_model.html#logistic-regression\n",
            "  n_iter_i = _check_optimize_result(\n"
          ]
        },
        {
          "output_type": "stream",
          "name": "stdout",
          "text": [
            "Classification Report after SMOTE:\n",
            "              precision    recall  f1-score   support\n",
            "\n",
            "         0.0       1.00      0.93      0.96    182557\n",
            "         1.0       0.56      0.95      0.71     17443\n",
            "\n",
            "    accuracy                           0.93    200000\n",
            "   macro avg       0.78      0.94      0.84    200000\n",
            "weighted avg       0.96      0.93      0.94    200000\n",
            "\n",
            "Confusion Matrix after SMOTE:\n",
            "[[169770  12787]\n",
            " [   849  16594]]\n",
            "ROC-AUC Score after SMOTE: 0.9790\n"
          ]
        }
      ]
    },
    {
      "cell_type": "markdown",
      "source": [
        "SMOTE has improved the recall for fraud detection significantly, making the model much more sensitive to detecting fraud (95% recall).\n",
        "However, this comes at the cost of precision (which dropped to 0.56 for fraud), meaning the model now classifies more non-fraud instances as fraud.\n",
        "The ROC-AUC score is very high (0.9790), suggesting the model is still excellent at distinguishing between the classes, despite the increase in false positives."
      ],
      "metadata": {
        "id": "3T3M7hEOmo0Z"
      }
    }
  ],
  "metadata": {
    "kernelspec": {
      "display_name": "Python 3",
      "language": "python",
      "name": "python3"
    },
    "language_info": {
      "codemirror_mode": {
        "name": "ipython",
        "version": 3
      },
      "file_extension": ".py",
      "mimetype": "text/x-python",
      "name": "python",
      "nbconvert_exporter": "python",
      "pygments_lexer": "ipython3",
      "version": "3.10.9"
    },
    "colab": {
      "provenance": []
    }
  },
  "nbformat": 4,
  "nbformat_minor": 0
}